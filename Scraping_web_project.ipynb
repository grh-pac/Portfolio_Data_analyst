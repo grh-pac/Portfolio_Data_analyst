{
 "cells": [
  {
   "cell_type": "markdown",
   "id": "29e1d921",
   "metadata": {},
   "source": [
    "## Scraping Data from a real Website + Pandas"
   ]
  },
  {
   "cell_type": "code",
   "execution_count": 240,
   "id": "d17189f4",
   "metadata": {},
   "outputs": [],
   "source": [
    "from bs4 import BeautifulSoup\n",
    "import requests\n",
    "import pandas as pd"
   ]
  },
  {
   "cell_type": "code",
   "execution_count": 241,
   "id": "7ab6a212",
   "metadata": {},
   "outputs": [],
   "source": [
    "url = 'https://en.wikipedia.org/wiki/List_of_largest_companies_in_the_United_States_by_revenue'\n",
    "\n",
    "page = requests.get(url)\n",
    "\n",
    "soup  = BeautifulSoup(page.text, 'html')"
   ]
  },
  {
   "cell_type": "code",
   "execution_count": 242,
   "id": "f6eb94fa",
   "metadata": {},
   "outputs": [],
   "source": [
    "tables = soup.find_all('table')\n",
    "titles_with_th = soup.find_all('th')"
   ]
  },
  {
   "cell_type": "code",
   "execution_count": 243,
   "id": "5c1895f1",
   "metadata": {},
   "outputs": [],
   "source": [
    "title_text = [title.text.strip() for title in titles_with_th]"
   ]
  },
  {
   "cell_type": "code",
   "execution_count": 244,
   "id": "071e100c",
   "metadata": {},
   "outputs": [],
   "source": [
    "columns_table1 = title_text[:7]\n",
    "columns_table2 = title_text[7:13]\n",
    "columns_table3 = title_text[13:]"
   ]
  },
  {
   "cell_type": "code",
   "execution_count": null,
   "id": "065aa1ad",
   "metadata": {},
   "outputs": [],
   "source": []
  },
  {
   "cell_type": "code",
   "execution_count": 245,
   "id": "b7196c9f",
   "metadata": {},
   "outputs": [],
   "source": [
    "table1 = pd.DataFrame(columns = columns_table1)\n",
    "table2 = pd.DataFrame(columns = columns_table2)\n",
    "table3 = pd.DataFrame(columns = columns_table3)\n"
   ]
  },
  {
   "cell_type": "code",
   "execution_count": 246,
   "id": "300f5b1d",
   "metadata": {},
   "outputs": [],
   "source": [
    "tables_list = []"
   ]
  },
  {
   "cell_type": "code",
   "execution_count": 247,
   "id": "390feb25",
   "metadata": {},
   "outputs": [],
   "source": [
    "\n",
    "for table in tables:\n",
    "    \n",
    "    column_data = table.find_all('tr')\n",
    "    for row in column_data:\n",
    "        row_data = row.find_all('td')\n",
    "        individual_row_data = [data.text.strip() for data in row_data]\n",
    "        tables_list.append(individual_row_data)"
   ]
  },
  {
   "cell_type": "code",
   "execution_count": null,
   "id": "690d0360",
   "metadata": {},
   "outputs": [],
   "source": []
  },
  {
   "cell_type": "code",
   "execution_count": 248,
   "id": "8c96b281",
   "metadata": {
    "scrolled": true
   },
   "outputs": [],
   "source": [
    "\n",
    "data1 = tables_list[2:102]\n",
    "data2 = tables_list[103:113]\n",
    "data3 = tables_list[114:]\n",
    "def process_table(list_table, table):\n",
    "    \n",
    "     for row in list_table:\n",
    "        lenght = len(table)\n",
    "        table.loc[lenght] = row\n",
    "     return table\n"
   ]
  },
  {
   "cell_type": "code",
   "execution_count": 249,
   "id": "81107e6f",
   "metadata": {},
   "outputs": [],
   "source": [
    "Dtable1 = process_table(data1, table1)\n",
    "Dtable2 = process_table(data2, table2)\n",
    "Dtable3 = process_table(data3, table3)"
   ]
  },
  {
   "cell_type": "code",
   "execution_count": 254,
   "id": "75f6339e",
   "metadata": {
    "scrolled": false
   },
   "outputs": [],
   "source": [
    "Dtable1.to_csv(r'C:\\Users\\STONE\\Documents\\Python Scripts\\Companies.csv')\n",
    "Dtable2.to_csv(r'C:\\Users\\STONE\\Documents\\Python Scripts\\PrvateCompanies.csv')\n",
    "Dtable3.to_csv(r'C:\\Users\\STONE\\Documents\\Python Scripts\\CompaniesByProfit.csv')"
   ]
  },
  {
   "cell_type": "code",
   "execution_count": null,
   "id": "809283d7",
   "metadata": {},
   "outputs": [],
   "source": []
  },
  {
   "cell_type": "code",
   "execution_count": null,
   "id": "f5bbae34",
   "metadata": {},
   "outputs": [],
   "source": []
  },
  {
   "cell_type": "code",
   "execution_count": null,
   "id": "8bc4f833",
   "metadata": {},
   "outputs": [],
   "source": []
  }
 ],
 "metadata": {
  "kernelspec": {
   "display_name": "Python 3 (ipykernel)",
   "language": "python",
   "name": "python3"
  },
  "language_info": {
   "codemirror_mode": {
    "name": "ipython",
    "version": 3
   },
   "file_extension": ".py",
   "mimetype": "text/x-python",
   "name": "python",
   "nbconvert_exporter": "python",
   "pygments_lexer": "ipython3",
   "version": "3.10.9"
  }
 },
 "nbformat": 4,
 "nbformat_minor": 5
}
