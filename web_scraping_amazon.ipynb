{
 "cells": [
  {
   "cell_type": "code",
   "execution_count": 136,
   "metadata": {},
   "outputs": [],
   "source": [
    "# import libraries\n",
    "from bs4 import BeautifulSoup\n",
    "import requests\n",
    "import smtplib\n",
    "import time\n",
    "import datetime\n",
    "import csv"
   ]
  },
  {
   "cell_type": "code",
   "execution_count": 138,
   "metadata": {},
   "outputs": [],
   "source": [
    "# Importing necessary libraries\n",
    "import requests\n",
    "from bs4 import BeautifulSoup\n",
    "\n",
    "# URL of the Amazon product page\n",
    "URL = 'https://www.amazon.com/Data-Communications-Analyst-Comfortable-XXX-Large/dp/B08471LYZB/ref=sr_1_2?crid=1A6DUL6Z5C8UX&dib=eyJ2IjoiMSJ9.KEhZNoiS_9aZRnvUMTy2C26JZRiMC8bzx4SJEq-8rK218Gh7X32yA226LNGuWhqt65TkgkVsol3LVAfIN1m1O-gXfDkS2OwY816RuHKX76KfJxchvqkPiRPKi4cp14OQaNW8sne-vnrSXQ5_Pj0rZ-TC4ADTvUYhzv5HlTqRIytz3mLeinYnmHo1jnV8Uvzu5DYDBvnY7XK4QLMBPibeptCTRh5ptSQCOVEkpqmSy4yHFqN15GuNnbg1hkLrAiV5O-TPoCM-AJbeVyRAoNgDbOspGULdcYNxexZlaFE3GDo.K49B9nFb9vz1VvAdST1APPxP12SeP20mC1gOxNzSeX8&dib_tag=se&keywords=data%2Banalyst%2Btshirt&qid=1712002505&sprefix=data%2Banalyst%2B%2Caps%2C399&sr=8-2&th=1'\n",
    "\n",
    "# Headers to be sent with the request\n",
    "headers = {\n",
    "    \"User-Agent\": \"Mozilla/5.0 (Windows NT 10.0; Win64; x64) AppleWebKit/537.36 (KHTML, like Gecko) Chrome/123.0.0.0 Safari/537.36\",\n",
    "    \"Accept-Encoding\": \"gzip, deflate, br, zstd\",\n",
    "    \"Accept\": \"text/html,application/xhtml+xml,application/xml;q=0.9,image/avif,image/webp,image/apng,*/*;q=0.8,application/signed-exchange;v=b3;q=0.7\"\n",
    "}\n",
    "\n",
    "# Sending a GET request to the URL with specified headers\n",
    "page = requests.get(URL, headers=headers)\n",
    "\n",
    "# Parsing the HTML content of the page using BeautifulSoup\n",
    "soup1 = BeautifulSoup(page.content, 'html.parser')\n",
    "soup2 = BeautifulSoup(soup1.prettify(), \"html.parser\")\n",
    "\n"
   ]
  },
  {
   "cell_type": "code",
   "execution_count": 139,
   "metadata": {},
   "outputs": [],
   "source": [
    "# Finding all elements with class 'a-offscreen' to extract price information\n",
    "get_price = soup2.find_all(class_='a-offscreen')\n",
    "\n",
    "# Finding the element with id 'productTitle' to extract the title of the product\n",
    "get_title = soup2.find(id='productTitle')\n",
    "\n",
    "# Finding all elements with class 'selection' to extract color information\n",
    "get_color = soup2.find_all(class_='selection')\n",
    "\n",
    "# Extracting color information from the first element of 'get_color' list\n",
    "color = get_color[0].get_text()\n",
    "\n",
    "# Extracting text content of the title element and removing leading/trailing whitespaces\n",
    "title = get_title.get_text().strip()\n",
    "\n",
    "# Extracting text content of the price element, removing leading/trailing whitespaces, and removing the currency symbol\n",
    "price = get_price[0].get_text().strip()[1:]\n",
    "\n",
    "# Displaying the extracted information\n",
    "price = price.strip()[1:]\n",
    "title = title.strip()\n",
    "color = color.strip()\n"
   ]
  },
  {
   "cell_type": "code",
   "execution_count": 140,
   "metadata": {},
   "outputs": [],
   "source": [
    "# Defining header for the CSV file\n",
    "header = ['Title', 'Color', 'Price', 'Date']\n",
    "\n",
    "# Getting today's date\n",
    "date = datetime.date.today()\n",
    "\n",
    "# Creating a list with extracted data\n",
    "data = [title, color, price, date]\n",
    "\n",
    "# Writing data to a CSV file named 'AmazonWebScraperDataSet.csv'\n",
    "with open('AmazonWebScraperDataSet.csv', 'w', newline='', encoding='UTF8') as f:\n",
    "    writer = csv.writer(f)\n",
    "    \n",
    "    # Writing the header row\n",
    "    writer.writerow(header)\n",
    "    \n",
    "    # Writing the data row\n",
    "    writer.writerow(data)\n",
    "\n"
   ]
  },
  {
   "cell_type": "code",
   "execution_count": 141,
   "metadata": {},
   "outputs": [],
   "source": [
    "\n",
    "\n",
    "def check_price():\n",
    "    # Appending data to the existing CSV file\n",
    "    with open('AmazonWebScraperDataSet.csv', 'a+', newline='', encoding='UTF8') as f:\n",
    "        writer = csv.writer(f)\n",
    "        writer.writerow(data)\n"
   ]
  },
  {
   "cell_type": "code",
   "execution_count": null,
   "metadata": {},
   "outputs": [],
   "source": [
    "\n",
    "# Continuous loop to periodically check the price and update the CSV file\n",
    "while True:\n",
    "    check_price()  # Call the check_price function to append data to the CSV file\n",
    "    time.sleep(86400)  # Pause execution for 86400s = 1 day  before the next iteration\n",
    "\n"
   ]
  }
 ],
 "metadata": {
  "kernelspec": {
   "display_name": "pr-venv",
   "language": "python",
   "name": "python3"
  },
  "language_info": {
   "codemirror_mode": {
    "name": "ipython",
    "version": 3
   },
   "file_extension": ".py",
   "mimetype": "text/x-python",
   "name": "python",
   "nbconvert_exporter": "python",
   "pygments_lexer": "ipython3",
   "version": "3.9.13"
  }
 },
 "nbformat": 4,
 "nbformat_minor": 2
}
